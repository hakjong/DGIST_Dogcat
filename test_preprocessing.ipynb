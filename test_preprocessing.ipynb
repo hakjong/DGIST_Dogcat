{
 "cells": [
  {
   "cell_type": "code",
   "execution_count": 2,
   "metadata": {
    "collapsed": true
   },
   "outputs": [],
   "source": [
    "import cv2\n",
    "import numpy as np\n",
    "import matplotlib.pyplot as plt\n",
    "import os\n",
    "import glob\n",
    "import random\n",
    "import shutil\n",
    "import math\n",
    "\n",
    "IMG_SIZE = 128\n",
    "BIN_PATH = './bin'\n",
    "\n",
    "def conv_square(filename, size=IMG_SIZE, border=False):\n",
    "    # img = cv2.imread(filename)\n",
    "    try:\n",
    "        img = plt.imread(filename)\n",
    "    except:\n",
    "        img = None\n",
    "\n",
    "    # 이상한 이미지는 검은색으로 처리\n",
    "    if img is None:\n",
    "        img = np.zeros((IMG_SIZE, IMG_SIZE, 3), dtype=np.uint8)\n",
    "\n",
    "    # 흑백 이미지 처리\n",
    "    if len(img.shape) == 2:\n",
    "        img = cv2.cvtColor(img, cv2.COLOR_GRAY2RGB)\n",
    "\n",
    "    # 알파체널 제거\n",
    "    if img.shape[2] == 4:\n",
    "        img = cv2.cvtColor(img, cv2.COLOR_RGBA2RGB)\n",
    "\n",
    "    if border:\n",
    "        h, w = img.shape[:2]\n",
    "        ratio = w / h\n",
    "\n",
    "        if ratio < 1:\n",
    "            rimg = cv2.resize(img, (int(size * ratio), size))\n",
    "        else:\n",
    "            rimg = cv2.resize(img, (size, int(size / ratio)))\n",
    "\n",
    "        # 정사각형으로 Padding\n",
    "\n",
    "        rh, rw = rimg.shape[:2]\n",
    "        bottom = int((size - rh) / 2)\n",
    "        right = int((size - rw) / 2)\n",
    "        rimg = cv2.copyMakeBorder(rimg, size - rh - bottom, bottom, size - rw - right, right, cv2.BORDER_CONSTANT)\n",
    "    else:\n",
    "        rimg = cv2.resize(img, (IMG_SIZE, IMG_SIZE))\n",
    "\n",
    "    # 색상 변환하여 return\n",
    "    return rimg  # cv2.cvtColor(rimg, cv2.COLOR_BGR2RGB)"
   ]
  },
  {
   "cell_type": "code",
   "execution_count": 7,
   "metadata": {},
   "outputs": [
    {
     "name": "stdout",
     "output_type": "stream",
     "text": [
      "12550\n"
     ]
    }
   ],
   "source": [
    "if __name__ == '__main__':\n",
    "    # 파일 이름 List 생성\n",
    "    img_path_list = [(int(a[12:-4]), a) for a in glob.glob('./data_test/*')]\n",
    "    img_path_list.sort()\n",
    "\n",
    "    img_path_list = [[1, a[1]] for a in img_path_list]\n",
    "\n",
    "    print(len(img_path_list))"
   ]
  },
  {
   "cell_type": "code",
   "execution_count": 8,
   "metadata": {},
   "outputs": [
    {
     "name": "stdout",
     "output_type": "stream",
     "text": [
      "./bin\\tocsv.bin\n",
      "0 1000 2000 3000 4000 5000 6000 7000 8000 9000 10000 11000 12000 \n",
      "Done.\n"
     ]
    }
   ],
   "source": [
    "    # 결과 출력\n",
    "    filepath = os.path.join(BIN_PATH, 'tocsv.bin')\n",
    "    with open(filepath, 'wb') as f:\n",
    "        print(filepath)\n",
    "        count = 0\n",
    "\n",
    "        for idx in range(len(img_path_list)):\n",
    "            if (idx % 1000 == 0):\n",
    "                print('%d' % idx, end=' ')\n",
    "            \n",
    "            item = img_path_list[idx]\n",
    "            key = item[0]\n",
    "            rimg = conv_square(item[1])\n",
    "\n",
    "            label = np.array(item[0]).astype(np.uint8)\n",
    "            data = np.array(rimg).astype(np.uint8)\n",
    "\n",
    "            f.write(label.tobytes())\n",
    "            f.write(data.tobytes())\n",
    "\n",
    "        print()\n",
    "\n",
    "    print('Done.')"
   ]
  },
  {
   "cell_type": "code",
   "execution_count": null,
   "metadata": {
    "collapsed": true
   },
   "outputs": [],
   "source": []
  }
 ],
 "metadata": {
  "kernelspec": {
   "display_name": "Python 3",
   "language": "python",
   "name": "python3"
  },
  "language_info": {
   "codemirror_mode": {
    "name": "ipython",
    "version": 3
   },
   "file_extension": ".py",
   "mimetype": "text/x-python",
   "name": "python",
   "nbconvert_exporter": "python",
   "pygments_lexer": "ipython3",
   "version": "3.5.3"
  }
 },
 "nbformat": 4,
 "nbformat_minor": 2
}
